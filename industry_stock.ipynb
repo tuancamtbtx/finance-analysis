{
 "cells": [
  {
   "attachments": {},
   "cell_type": "markdown",
   "metadata": {},
   "source": []
  },
  {
   "cell_type": "code",
   "execution_count": 1,
   "metadata": {},
   "outputs": [],
   "source": [
    "import pandas as pd"
   ]
  },
  {
   "cell_type": "code",
   "execution_count": 74,
   "metadata": {},
   "outputs": [],
   "source": [
    "# chung khoan\n",
    "df = pd.read_csv('./stock_industry_data/nganhang_industry.csv', usecols=['Date','OpenFixed', 'CloseFixed'], parse_dates=['Date'])\n",
    "df\n",
    "df['Year_Month'] = df['Date'].dt.strftime('%Y%m')\n",
    "df['Day'] = df['Date'].dt.strftime('%d')\n",
    "open_price_df = df.groupby('Year_Month').first()\n",
    "df_open_price = pd.DataFrame(open_price_df, columns= ['Date','OpenFixed'])\n",
    "df_open_price['Year_Month_X'] = df_open_price['Date'].dt.strftime('%Y%m')\n",
    "close_price_df = df.groupby('Year_Month').last()\n",
    "\n",
    "df_close_price = pd.DataFrame(close_price_df, columns= ['Date','CloseFixed'])\n",
    "df_close_price['Year_Month_X'] = df_close_price['Date'].dt.strftime('%Y%m')\n",
    "\n",
    "df_close_price_rs = df_close_price[['Year_Month_X','CloseFixed']]\n",
    "df_open_price_rs = df_open_price[['Year_Month_X','OpenFixed']]\n",
    "\n",
    "df_open_price_rs\n",
    "ds_final =pd.merge(df_open_price_rs, df_close_price_rs, on='Year_Month_X')\n",
    "ds_final.to_csv('./final/nganhang_industry_final.csv', index=False)"
   ]
  }
 ],
 "metadata": {
  "kernelspec": {
   "display_name": "Python 3",
   "language": "python",
   "name": "python3"
  },
  "language_info": {
   "codemirror_mode": {
    "name": "ipython",
    "version": 3
   },
   "file_extension": ".py",
   "mimetype": "text/x-python",
   "name": "python",
   "nbconvert_exporter": "python",
   "pygments_lexer": "ipython3",
   "version": "3.8.10"
  },
  "orig_nbformat": 4
 },
 "nbformat": 4,
 "nbformat_minor": 2
}
