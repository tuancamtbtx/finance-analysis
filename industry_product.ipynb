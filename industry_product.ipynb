{
 "cells": [
  {
   "cell_type": "code",
   "execution_count": 70,
   "metadata": {},
   "outputs": [],
   "source": [
    "df_2008 = [131.5,109.3,129.7,131.8,135.5,133.4,134.8,132.7,130.5,130.0,139.4,141.8] # so vs 2005\n",
    "df_2009 = [119.0,123.3,137.5,137.1,139.3,141.6,145.7,146.1,147.2,148.1,151.0,155.9] # so vs 2005\n",
    "df_2010 = [152.2,122.1,152.5,150.5,157.0,156.6,161.7,160.8,156.4,167.1,170.0,166.8] # so vs 2005\n",
    "df_2011 = [165.4,137.1,161.9,163.1,167.2,165.9,164.2,170.9,167.2,172.9,177.6,187.2] # so vs 2005\n",
    "df_2012 = [143.8,162.0,175.2,170.6,177.4,170.2,174.0,176.1,171.9,181.4,189.7,194.8] # so vs 2005\n",
    "df_2013 = [119.9,89.0,118.2,117.9,120.0,117.4,119.0,121.0,117.1,125.2,127.0,132.5]  # so vs 2010\n",
    "df_2014 = [117.3,103.3,123.1,127.7,127.6,126.9,126.3,128.4,128.5,136.5,139.5,146.0] # so vs 2010\n",
    "df_2015 = [139.6,107.6,136.8,137.5,142.1,142.0,144.3,142.5,147.7,154.5,155.7,161.9] # so vs 2010\n",
    "df_2016 = [164.7,128.2,164.1,163.2,166.0,166.1,167.0,169.3,169.8,176.3,176.2,184.2] # so vs 2010\n",
    "df_2017 = [192.5,191.5,227.5,238.5,238.2,231.4,233.9,250.0,261.1,263.2,263.6,267.2] # so vs 2010\n",
    "df_2018 = [126.8,101.7,126.8,125.0,128.7,127.3,129.6,135.4,134.4,139.4,143.1,145.1] # so vs 2015\n",
    "df_2019 = [134.1,108.4,134.8,134.6,138.7,134.1,141.6,149.3,148.6,152.9,146.7,147.4] # so vs 2015\n",
    "df_2020 = [123.3,128.9,137.6,116.5,130.6,140.1,147.3,152.4,157.3,161.0,156.9,159.5] # so vs 2015\n",
    "df_2021 = [154.1,119.7,143.6,142.9,145.7,143.8,143.3,137.7,141.7,151.2,160.1,165.7] # so vs 2015\n",
    "df_2022 = [159.7,141.4,165.4,169.5,174.9,172.9,173.6,175.2,172.1,176.2,171.1,169.4] # so vs 2015"
   ]
  },
  {
   "cell_type": "code",
   "execution_count": 110,
   "metadata": {},
   "outputs": [],
   "source": [
    "data = [\n",
    "    {\n",
    "        \"year\": 2008,\n",
    "        \"iip\": df_2008\n",
    "    },\n",
    "    {\n",
    "        \"year\": 2009,\n",
    "        \"iip\": df_2009\n",
    "    },\n",
    "    {\n",
    "        \"year\": 2010,\n",
    "        \"iip\": df_2010\n",
    "    },\n",
    "    {\n",
    "        \"year\": 2011,\n",
    "        \"iip\": df_2011\n",
    "    },\n",
    "    {\n",
    "        \"year\": 2012,\n",
    "        \"iip\": df_2012\n",
    "    },\n",
    "    {\n",
    "        \"year\": 2013,\n",
    "        \"iip\": df_2013\n",
    "    },\n",
    "    {\n",
    "        \"year\": 2014,\n",
    "        \"iip\": df_2014\n",
    "    },\n",
    "    {\n",
    "        \"year\": 2015,\n",
    "        \"iip\": df_2015\n",
    "    },\n",
    "    {\n",
    "        \"year\": 2016,\n",
    "        \"iip\": df_2016\n",
    "    },\n",
    "    {\n",
    "        \"year\": 2017,\n",
    "        \"iip\": df_2017\n",
    "    },\n",
    "    {\n",
    "        \"year\": 2018,\n",
    "        \"iip\": df_2018\n",
    "    },\n",
    "    {\n",
    "        \"year\": 2019,\n",
    "        \"iip\": df_2019\n",
    "    },\n",
    "    {\n",
    "        \"year\": 2020,\n",
    "        \"iip\": df_2020\n",
    "    },\n",
    "       {\n",
    "        \"year\": 2021,\n",
    "        \"iip\": df_2021\n",
    "    },\n",
    "       {\n",
    "        \"year\": 2022,\n",
    "        \"iip\": df_2022\n",
    "    }\n",
    "]"
   ]
  },
  {
   "cell_type": "code",
   "execution_count": 107,
   "metadata": {},
   "outputs": [
    {
     "name": "stdout",
     "output_type": "stream",
     "text": [
      "year 2008 temp 25.38\n",
      "year 2009 temp 25.38\n",
      "year 2010 temp 25.38\n",
      "ip_2010 39.629999999999995\n",
      "year 2011 temp 25.38\n",
      "year 2012 temp 25.38\n",
      "year 2013 temp 39.629999999999995\n",
      "year 2014 temp 39.629999999999995\n",
      "year 2015 temp 39.629999999999995\n",
      "ip_2015 56.550000000000004\n",
      "year 2016 temp 39.629999999999995\n",
      "year 2017 temp 39.629999999999995\n",
      "year 2018 temp 56.550000000000004\n",
      "year 2019 temp 56.550000000000004\n",
      "year 2020 temp 56.550000000000004\n",
      "year 2021 temp 56.550000000000004\n",
      "year 2022 temp 56.550000000000004\n",
      "[{'month': 1, 'year': 2008, 'value': 2.78}, {'month': 2, 'year': 2008, 'value': 2.31}, {'month': 3, 'year': 2008, 'value': 2.74}, {'month': 4, 'year': 2008, 'value': 2.79}, {'month': 5, 'year': 2008, 'value': 2.87}, {'month': 6, 'year': 2008, 'value': 2.82}, {'month': 7, 'year': 2008, 'value': 2.85}, {'month': 8, 'year': 2008, 'value': 2.81}, {'month': 9, 'year': 2008, 'value': 2.76}, {'month': 10, 'year': 2008, 'value': 2.75}, {'month': 11, 'year': 2008, 'value': 2.95}, {'month': 12, 'year': 2008, 'value': 3.0}, {'month': 1, 'year': 2009, 'value': 2.52}, {'month': 2, 'year': 2009, 'value': 2.61}, {'month': 3, 'year': 2009, 'value': 2.91}, {'month': 4, 'year': 2009, 'value': 2.9}, {'month': 5, 'year': 2009, 'value': 2.95}, {'month': 6, 'year': 2009, 'value': 2.99}, {'month': 7, 'year': 2009, 'value': 3.08}, {'month': 8, 'year': 2009, 'value': 3.09}, {'month': 9, 'year': 2009, 'value': 3.11}, {'month': 10, 'year': 2009, 'value': 3.13}, {'month': 11, 'year': 2009, 'value': 3.19}, {'month': 12, 'year': 2009, 'value': 3.3}, {'month': 1, 'year': 2010, 'value': 3.22}, {'month': 2, 'year': 2010, 'value': 2.58}, {'month': 3, 'year': 2010, 'value': 3.23}, {'month': 4, 'year': 2010, 'value': 3.18}, {'month': 5, 'year': 2010, 'value': 3.32}, {'month': 6, 'year': 2010, 'value': 3.31}, {'month': 7, 'year': 2010, 'value': 3.42}, {'month': 8, 'year': 2010, 'value': 3.4}, {'month': 9, 'year': 2010, 'value': 3.31}, {'month': 10, 'year': 2010, 'value': 3.53}, {'month': 11, 'year': 2010, 'value': 3.6}, {'month': 12, 'year': 2010, 'value': 3.53}, {'month': 1, 'year': 2011, 'value': 3.5}, {'month': 2, 'year': 2011, 'value': 2.9}, {'month': 3, 'year': 2011, 'value': 3.42}, {'month': 4, 'year': 2011, 'value': 3.45}, {'month': 5, 'year': 2011, 'value': 3.54}, {'month': 6, 'year': 2011, 'value': 3.51}, {'month': 7, 'year': 2011, 'value': 3.47}, {'month': 8, 'year': 2011, 'value': 3.61}, {'month': 9, 'year': 2011, 'value': 3.54}, {'month': 10, 'year': 2011, 'value': 3.66}, {'month': 11, 'year': 2011, 'value': 3.76}, {'month': 12, 'year': 2011, 'value': 3.96}, {'month': 1, 'year': 2012, 'value': 3.04}, {'month': 2, 'year': 2012, 'value': 3.43}, {'month': 3, 'year': 2012, 'value': 3.71}, {'month': 4, 'year': 2012, 'value': 3.61}, {'month': 5, 'year': 2012, 'value': 3.75}, {'month': 6, 'year': 2012, 'value': 3.6}, {'month': 7, 'year': 2012, 'value': 3.68}, {'month': 8, 'year': 2012, 'value': 3.72}, {'month': 9, 'year': 2012, 'value': 3.64}, {'month': 10, 'year': 2012, 'value': 3.84}, {'month': 11, 'year': 2012, 'value': 4.01}, {'month': 12, 'year': 2012, 'value': 4.12}, {'month': 1, 'year': 2013, 'value': 3.96}, {'month': 2, 'year': 2013, 'value': 2.94}, {'month': 3, 'year': 2013, 'value': 3.9}, {'month': 4, 'year': 2013, 'value': 3.89}, {'month': 5, 'year': 2013, 'value': 3.96}, {'month': 6, 'year': 2013, 'value': 3.88}, {'month': 7, 'year': 2013, 'value': 3.93}, {'month': 8, 'year': 2013, 'value': 4.0}, {'month': 9, 'year': 2013, 'value': 3.87}, {'month': 10, 'year': 2013, 'value': 4.13}, {'month': 11, 'year': 2013, 'value': 4.19}, {'month': 12, 'year': 2013, 'value': 4.38}, {'month': 1, 'year': 2014, 'value': 3.87}, {'month': 2, 'year': 2014, 'value': 3.41}, {'month': 3, 'year': 2014, 'value': 4.07}, {'month': 4, 'year': 2014, 'value': 4.22}, {'month': 5, 'year': 2014, 'value': 4.21}, {'month': 6, 'year': 2014, 'value': 4.19}, {'month': 7, 'year': 2014, 'value': 4.17}, {'month': 8, 'year': 2014, 'value': 4.24}, {'month': 9, 'year': 2014, 'value': 4.24}, {'month': 10, 'year': 2014, 'value': 4.51}, {'month': 11, 'year': 2014, 'value': 4.61}, {'month': 12, 'year': 2014, 'value': 4.82}, {'month': 1, 'year': 2015, 'value': 4.61}, {'month': 2, 'year': 2015, 'value': 3.55}, {'month': 3, 'year': 2015, 'value': 4.52}, {'month': 4, 'year': 2015, 'value': 4.54}, {'month': 5, 'year': 2015, 'value': 4.69}, {'month': 6, 'year': 2015, 'value': 4.69}, {'month': 7, 'year': 2015, 'value': 4.77}, {'month': 8, 'year': 2015, 'value': 4.71}, {'month': 9, 'year': 2015, 'value': 4.88}, {'month': 10, 'year': 2015, 'value': 5.1}, {'month': 11, 'year': 2015, 'value': 5.14}, {'month': 12, 'year': 2015, 'value': 5.35}, {'month': 1, 'year': 2016, 'value': 5.44}, {'month': 2, 'year': 2016, 'value': 4.23}, {'month': 3, 'year': 2016, 'value': 5.42}, {'month': 4, 'year': 2016, 'value': 5.39}, {'month': 5, 'year': 2016, 'value': 5.48}, {'month': 6, 'year': 2016, 'value': 5.49}, {'month': 7, 'year': 2016, 'value': 5.52}, {'month': 8, 'year': 2016, 'value': 5.59}, {'month': 9, 'year': 2016, 'value': 5.61}, {'month': 10, 'year': 2016, 'value': 5.82}, {'month': 11, 'year': 2016, 'value': 5.82}, {'month': 12, 'year': 2016, 'value': 6.08}, {'month': 1, 'year': 2017, 'value': 6.36}, {'month': 2, 'year': 2017, 'value': 6.32}, {'month': 3, 'year': 2017, 'value': 7.51}, {'month': 4, 'year': 2017, 'value': 7.88}, {'month': 5, 'year': 2017, 'value': 7.87}, {'month': 6, 'year': 2017, 'value': 7.64}, {'month': 7, 'year': 2017, 'value': 7.72}, {'month': 8, 'year': 2017, 'value': 8.26}, {'month': 9, 'year': 2017, 'value': 8.62}, {'month': 10, 'year': 2017, 'value': 8.69}, {'month': 11, 'year': 2017, 'value': 8.71}, {'month': 12, 'year': 2017, 'value': 8.82}, {'month': 1, 'year': 2018, 'value': 5.98}, {'month': 2, 'year': 2018, 'value': 4.79}, {'month': 3, 'year': 2018, 'value': 5.98}, {'month': 4, 'year': 2018, 'value': 5.89}, {'month': 5, 'year': 2018, 'value': 6.06}, {'month': 6, 'year': 2018, 'value': 6.0}, {'month': 7, 'year': 2018, 'value': 6.11}, {'month': 8, 'year': 2018, 'value': 6.38}, {'month': 9, 'year': 2018, 'value': 6.33}, {'month': 10, 'year': 2018, 'value': 6.57}, {'month': 11, 'year': 2018, 'value': 6.74}, {'month': 12, 'year': 2018, 'value': 6.84}, {'month': 1, 'year': 2019, 'value': 6.32}, {'month': 2, 'year': 2019, 'value': 5.11}, {'month': 3, 'year': 2019, 'value': 6.35}, {'month': 4, 'year': 2019, 'value': 6.34}, {'month': 5, 'year': 2019, 'value': 6.54}, {'month': 6, 'year': 2019, 'value': 6.32}, {'month': 7, 'year': 2019, 'value': 6.67}, {'month': 8, 'year': 2019, 'value': 7.04}, {'month': 9, 'year': 2019, 'value': 7.0}, {'month': 10, 'year': 2019, 'value': 7.21}, {'month': 11, 'year': 2019, 'value': 6.91}, {'month': 12, 'year': 2019, 'value': 6.95}, {'month': 1, 'year': 2020, 'value': 5.81}, {'month': 2, 'year': 2020, 'value': 6.07}, {'month': 3, 'year': 2020, 'value': 6.48}, {'month': 4, 'year': 2020, 'value': 5.49}, {'month': 5, 'year': 2020, 'value': 6.15}, {'month': 6, 'year': 2020, 'value': 6.6}, {'month': 7, 'year': 2020, 'value': 6.94}, {'month': 8, 'year': 2020, 'value': 7.18}, {'month': 9, 'year': 2020, 'value': 7.41}, {'month': 10, 'year': 2020, 'value': 7.59}, {'month': 11, 'year': 2020, 'value': 7.39}, {'month': 12, 'year': 2020, 'value': 7.52}, {'month': 1, 'year': 2021, 'value': 7.26}, {'month': 2, 'year': 2021, 'value': 5.64}, {'month': 3, 'year': 2021, 'value': 6.77}, {'month': 4, 'year': 2021, 'value': 6.73}, {'month': 5, 'year': 2021, 'value': 6.87}, {'month': 6, 'year': 2021, 'value': 6.78}, {'month': 7, 'year': 2021, 'value': 6.75}, {'month': 8, 'year': 2021, 'value': 6.49}, {'month': 9, 'year': 2021, 'value': 6.68}, {'month': 10, 'year': 2021, 'value': 7.13}, {'month': 11, 'year': 2021, 'value': 7.54}, {'month': 12, 'year': 2021, 'value': 7.81}, {'month': 1, 'year': 2022, 'value': 7.53}, {'month': 2, 'year': 2022, 'value': 6.66}, {'month': 3, 'year': 2022, 'value': 7.79}, {'month': 4, 'year': 2022, 'value': 7.99}, {'month': 5, 'year': 2022, 'value': 8.24}, {'month': 6, 'year': 2022, 'value': 8.15}, {'month': 7, 'year': 2022, 'value': 8.18}, {'month': 8, 'year': 2022, 'value': 8.26}, {'month': 9, 'year': 2022, 'value': 8.11}, {'month': 10, 'year': 2022, 'value': 8.3}, {'month': 11, 'year': 2022, 'value': 8.06}, {'month': 12, 'year': 2022, 'value': 7.98}]\n"
     ]
    }
   ],
   "source": [
    "ip_2005 = 25.38\n",
    "ip_2010 = 0\n",
    "ip_2015 = 0\n",
    "result = []\n",
    "total = 0\n",
    "for i in range(len(data)):\n",
    "\tyear = data[i]['year']\n",
    "\tiips = data[i]['iip']\n",
    "\tif year in [2008, 2009, 2010, 2011, 2012]:\n",
    "\t\ttemp = ip_2005\n",
    "\tif year in [2013, 2014, 2015, 2016, 2017]:\n",
    "\t\ttemp = ip_2010\n",
    "\telif year in [2018, 2019, 2020, 2021, 2022]:\n",
    "\t\ttemp = ip_2015\n",
    "\tprint(\"year\", year,\"temp\",temp)\n",
    "\tfor j in range(len(iips)):\n",
    "\t\titem = {}\n",
    "\t\titem['month'] = j + 1\n",
    "\t\titem['year'] = year\n",
    "\t\titem['value'] = round(iips[j] * (temp/(100*12)),2)\n",
    "\t\ttotal += item['value']\n",
    "\t\tresult.append(item)\n",
    "\tif year == 2010:\n",
    "\t\tip_2010 = total\n",
    "\t\tprint(\"ip_2010\",ip_2010)\n",
    "\tif year == 2015:\n",
    "\t\tip_2015 = total\n",
    "\t\tprint(\"ip_2015\",ip_2015)\n",
    "\ttotal = 0\n",
    "print(result)\n",
    "import csv\n",
    "\n",
    "data_file = open('./industry_data/final.csv', 'w', newline='')\n",
    "csv_writer = csv.writer(data_file)\n",
    " \n",
    "count = 0\n",
    "for i in result:\n",
    "\tif count == 0:\n",
    "\t\theader = i.keys()\n",
    "\t\tcsv_writer.writerow(header)\n",
    "\t\tcount += 1\n",
    "\tcsv_writer.writerow(i.values())\n",
    " \n",
    "data_file.close()"
   ]
  },
  {
   "cell_type": "code",
   "execution_count": 102,
   "metadata": {},
   "outputs": [
    {
     "data": {
      "text/plain": [
       "25.384719599999997"
      ]
     },
     "execution_count": 102,
     "metadata": {},
     "output_type": "execute_result"
    }
   ],
   "source": [
    "34.68 * 73.197 / 100"
   ]
  },
  {
   "cell_type": "code",
   "execution_count": 109,
   "metadata": {},
   "outputs": [
    {
     "data": {
      "text/plain": [
       "25.3784772"
      ]
     },
     "execution_count": 109,
     "metadata": {},
     "output_type": "execute_result"
    }
   ],
   "source": [
    "0.3468 * 73.179"
   ]
  },
  {
   "cell_type": "code",
   "execution_count": 100,
   "metadata": {},
   "outputs": [
    {
     "data": {
      "text/plain": [
       "True"
      ]
     },
     "execution_count": 100,
     "metadata": {},
     "output_type": "execute_result"
    }
   ],
   "source": [
    "2008 in [2008, 2009]"
   ]
  }
 ],
 "metadata": {
  "kernelspec": {
   "display_name": "Python 3",
   "language": "python",
   "name": "python3"
  },
  "language_info": {
   "codemirror_mode": {
    "name": "ipython",
    "version": 3
   },
   "file_extension": ".py",
   "mimetype": "text/x-python",
   "name": "python",
   "nbconvert_exporter": "python",
   "pygments_lexer": "ipython3",
   "version": "3.8.10"
  },
  "orig_nbformat": 4
 },
 "nbformat": 4,
 "nbformat_minor": 2
}
